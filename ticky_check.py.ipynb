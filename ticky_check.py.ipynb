{
 "cells": [
  {
   "cell_type": "code",
   "execution_count": null,
   "id": "e3cfde19",
   "metadata": {},
   "outputs": [],
   "source": [
    "#!/usr/bin/env python3\n",
    "import re\n",
    "\n",
    "errors_list = {}\n",
    "info_list = {}\n",
    "\n",
    "def search_errors(input_lines):\n",
    "  for line in input_lines:\n",
    "    print(\"Line: {}\".format(line))\n",
    "    error_message = re.search(r\"ticky: ERROR: ([\\w ]*) \", line)\n",
    "    #if error_message != None:\n",
    "    print(error_message)\n",
    "\n",
    "\n",
    "def main(file_path):\n",
    "  log_data_lines = []\n",
    "\n",
    "  with open(file_path, 'r') as reader:\n",
    "    log_data_lines = reader.readlines()\n",
    "    reader.close()\n",
    "\n",
    "  #print(\"File read: {}\".format(log_data_lines))\n",
    "  #search_errors(log_data_lines)\n",
    "  for line in log_data_lines:\n",
    "    print(\"Line: {}\".format(line))\n",
    "    error_message = re.search(r\"ERROR:*.\", line)\n",
    "    #if error_message != None:\n",
    "    print(error_message)\n",
    "\n",
    "\n",
    "file_path = \"/home/student-02-2ce31e15e45a/syslog.log\"\n",
    "main(file_path)\n"
   ]
  }
 ],
 "metadata": {
  "kernelspec": {
   "display_name": "Python 3",
   "language": "python",
   "name": "python3"
  },
  "language_info": {
   "codemirror_mode": {
    "name": "ipython",
    "version": 3
   },
   "file_extension": ".py",
   "mimetype": "text/x-python",
   "name": "python",
   "nbconvert_exporter": "python",
   "pygments_lexer": "ipython3",
   "version": "3.8.8"
  }
 },
 "nbformat": 4,
 "nbformat_minor": 5
}
